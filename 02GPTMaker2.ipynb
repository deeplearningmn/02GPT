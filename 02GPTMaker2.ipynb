{
  "nbformat": 4,
  "nbformat_minor": 0,
  "metadata": {
    "colab": {
      "provenance": []
    },
    "kernelspec": {
      "name": "python3",
      "display_name": "Python 3"
    },
    "language_info": {
      "name": "python"
    }
  },
  "cells": [
    {
      "cell_type": "markdown",
      "source": [
        "1. Prepare the data\n",
        "2. Build & train the model\n",
        "3. Cost function, error function, eval\n",
        "4. Visualize the model\n",
        "5. Inference the model"
      ],
      "metadata": {
        "id": "UQopS3sreNlT"
      }
    },
    {
      "cell_type": "code",
      "execution_count": 3,
      "metadata": {
        "colab": {
          "base_uri": "https://localhost:8080/",
          "height": 1000
        },
        "id": "mwa_AHn3d0s3",
        "outputId": "7b53fd6e-1fd3-471a-8b5f-0b9d344bcb32"
      },
      "outputs": [
        {
          "output_type": "stream",
          "name": "stdout",
          "text": [
            "total dataset size : 22\n",
            "all dataset header : ['Ads', 'Income']\n",
            "prepare_dataset X :      Ads\n",
            "0    4.0\n",
            "1    5.0\n",
            "2   10.0\n",
            "3   14.0\n",
            "4   17.0\n",
            "5   20.5\n",
            "6   24.0\n",
            "7   27.5\n",
            "8   31.0\n",
            "9   34.5\n",
            "10  38.0\n",
            "11  41.5\n",
            "12  45.0\n",
            "13  48.5\n",
            "14  52.0\n",
            "15  55.5\n",
            "16  59.0\n",
            "17  62.5\n",
            "18  66.0\n",
            "19  69.5\n",
            "20  73.0\n",
            "21  76.5\n",
            "prepare_dataset Y :     Income\n",
            "0       60\n",
            "1       70\n",
            "2      130\n",
            "3      160\n",
            "4      195\n",
            "5      231\n",
            "6      267\n",
            "7      303\n",
            "8      339\n",
            "9      375\n",
            "10     411\n",
            "11     447\n",
            "12     483\n",
            "13     519\n",
            "14     555\n",
            "15     591\n",
            "16     627\n",
            "17     663\n",
            "18     699\n",
            "19     735\n",
            "20     771\n",
            "21     807\n",
            "Coefficients:   [[10.27398044]]\n",
            "Intercept:   [20.81276926]\n",
            "Mean squared error:  4.330259399057324\n"
          ]
        },
        {
          "output_type": "display_data",
          "data": {
            "text/plain": [
              "<Figure size 640x480 with 1 Axes>"
            ],
            "image/png": "[encoded data removed]"
          },
          "metadata": {}
        },
        {
          "output_type": "stream",
          "name": "stdout",
          "text": [
            "inference_model : [[431.77198692]]\n"
          ]
        },
        {
          "output_type": "stream",
          "name": "stderr",
          "text": [
            "/usr/local/lib/python3.10/dist-packages/sklearn/base.py:439: UserWarning: X does not have valid feature names, but LinearRegression was fitted with feature names\n",
            "  warnings.warn(\n"
          ]
        }
      ],
      "source": [
        "from sklearn import datasets, linear_model\n",
        "from sklearn.metrics import mean_squared_error, r2_score\n",
        "from sklearn.model_selection import train_test_split\n",
        "\n",
        "import pandas as pd\n",
        "import matplotlib.pyplot as plt\n",
        "\n",
        "\n",
        "#Machine learning 1: Prepare the data\n",
        "def prepare_data():\n",
        "    dataset_path = \"/content/dataset_ads.xlsx\" \n",
        "    df =  pd.read_excel(dataset_path)\n",
        "    print('total dataset size :',len(df))\n",
        "    headers =  list(df)\n",
        "    print('all dataset header :',headers)\n",
        "    X = df[['Ads']]\n",
        "    Y= df[['Income']]\n",
        "    print('prepare_dataset X :',X)\n",
        "    print('prepare_dataset Y :',Y)\n",
        "    X_train, X_test, Y_train, Y_test = train_test_split(X, Y,   test_size=0.2, random_state=1, )\n",
        "    return X_train, X_test, Y_train, Y_test\n",
        "\n",
        " \n",
        "#Machine learning 2: Build & train the model\n",
        "def build_model(X_train, Y_train): \n",
        "\n",
        "  #Build model\n",
        "  model = linear_model.LinearRegression() \n",
        "\n",
        "  #Train model\n",
        "  model.fit( X_train, Y_train)\n",
        "\n",
        "  w1 = model.coef_\n",
        "  w0 = model.intercept_\n",
        "  print(\"Coefficients:  \", w1)\n",
        "  print(\"Intercept:  \", w0)\n",
        "  return model\n",
        "\n",
        " \n",
        "   \n",
        "#Machine learning 3: Eval the model, define error function\n",
        "def eval_model(model,X_test,Y_test):\n",
        "    y_pred = model.predict(X_test)  \n",
        "\n",
        "    # The mean squared error\n",
        "    mse = mean_squared_error(Y_test, y_pred)\n",
        "    print(\"Mean squared error: \", mse)\n",
        "   \n",
        "    return y_pred\n",
        "\n",
        "def visualize_eval(X_test,Y_test,y_pred):\n",
        "    plt.scatter(X_test, Y_test, color=\"black\")\n",
        "    plt.plot(X_test, y_pred, color=\"blue\", linewidth=3)   \n",
        "    plt.show()\n",
        "\n",
        "def inference_model(data):\n",
        "    y_pred = model.predict([data])\n",
        "    print('inference_model :',y_pred) \n",
        "    return y_pred\n",
        "\n",
        "#Step 1\n",
        "X_train, X_test, Y_train, Y_test = prepare_data()\n",
        "\n",
        "#Step 2\n",
        "model = build_model(X_train, Y_train)\n",
        "\n",
        "#Step 3\n",
        "y_pred = eval_model(model,X_test,Y_test)\n",
        "\n",
        "#Step 4\n",
        "visualize_eval(X_test,Y_test,y_pred)\n",
        "\n",
        "#Step 5\n",
        "x=[40]\n",
        "y_pred = inference_model(x)\n",
        "\n",
        "\n",
        "\n",
        "\n",
        "\n"
      ]
    }
  ]
}