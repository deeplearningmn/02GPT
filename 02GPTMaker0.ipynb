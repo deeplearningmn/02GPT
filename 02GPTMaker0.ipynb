{
  "nbformat": 4,
  "nbformat_minor": 0,
  "metadata": {
    "colab": {
      "provenance": []
    },
    "kernelspec": {
      "name": "python3",
      "display_name": "Python 3"
    },
    "language_info": {
      "name": "python"
    }
  },
  "cells": [
    {
      "cell_type": "markdown",
      "source": [
        "Хамгийн анхны лабын бие халаах хичээл\n",
        "Сайн уу колаб"
      ],
      "metadata": {
        "id": "yM4TcOf7GZ9A"
      }
    },
    {
      "cell_type": "code",
      "execution_count": null,
      "metadata": {
        "colab": {
          "base_uri": "https://localhost:8080/"
        },
        "id": "vlzpdOkRGR3R",
        "outputId": "5624251b-7931-4d22-8093-f3d4c7cf74b0"
      },
      "outputs": [
        {
          "output_type": "stream",
          "name": "stdout",
          "text": [
            "Hello Colab !\n"
          ]
        }
      ],
      "source": [
        "def hello_colab():\n",
        "    print('Hello Colab !')\n",
        "\n",
        "hello_colab()"
      ]
    },
    {
      "cell_type": "code",
      "source": [],
      "metadata": {
        "id": "OJgKIltcGY9C"
      },
      "execution_count": null,
      "outputs": []
    }
  ]
}