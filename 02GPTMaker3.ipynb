{
  "nbformat": 4,
  "nbformat_minor": 0,
  "metadata": {
    "colab": {
      "provenance": []
    },
    "kernelspec": {
      "name": "python3",
      "display_name": "Python 3"
    },
    "language_info": {
      "name": "python"
    }
  },
  "cells": [
    {
      "cell_type": "code",
      "execution_count": 2,
      "metadata": {
        "colab": {
          "base_uri": "https://localhost:8080/"
        },
        "id": "XVuRT1QjG8UO",
        "outputId": "2c49aa12-28a7-4aee-e454-a7c138ffc572"
      },
      "outputs": [
        {
          "output_type": "stream",
          "name": "stdout",
          "text": [
            "Hello PyTorch V : 2.0.1+cu118\n",
            "torch tensor size : torch.Size([6, 1])\n"
          ]
        }
      ],
      "source": [
        "import torch\n",
        "\n",
        "print('Hello PyTorch V :',torch.__version__)\n",
        "\n",
        "x = torch.tensor([[2.0],  [0.0], [1.0], [5.0], [3.0], [4.0]], dtype=torch.float)\n",
        "print('torch tensor size :',x.size())"
      ]
    }
  ]
}